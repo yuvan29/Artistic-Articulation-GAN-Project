{
 "cells": [
  {
   "cell_type": "code",
   "execution_count": null,
   "id": "b94c4e0e",
   "metadata": {},
   "outputs": [],
   "source": [
    "import os\n",
    "from torch.utils.data import Dataset\n",
    "from PIL import Image\n",
    "\n",
    "class CustomDataset(Dataset):\n",
    "    def __init__(self, path_to_dataset, transform=None):\n",
    "        self.path_to_dataset = path_to_dataset\n",
    "        self.transform = transform\n",
    "\n",
    "        self.directory = os.listdir(self.path_to_dataset)\n",
    "        self.length_of_dset = len(self.directory)\n",
    "\n",
    "    def __len__(self):\n",
    "        return self.length_of_dset\n",
    "\n",
    "    def __getitem__(self, index):\n",
    "        image_filename = self.directory[index]\n",
    "        path_to_image = os.path.join(self.path_to_dataset, image_filename)\n",
    "        image = Image.open(path_to_image).convert(\"RGB\")\n",
    "\n",
    "        if self.transform:\n",
    "            image = self.transform(image)\n",
    "\n",
    "        return image\n"
   ]
  }
 ],
 "metadata": {
  "kernelspec": {
   "display_name": "Python 3 (ipykernel)",
   "language": "python",
   "name": "python3"
  },
  "language_info": {
   "codemirror_mode": {
    "name": "ipython",
    "version": 3
   },
   "file_extension": ".py",
   "mimetype": "text/x-python",
   "name": "python",
   "nbconvert_exporter": "python",
   "pygments_lexer": "ipython3",
   "version": "3.8.13"
  }
 },
 "nbformat": 4,
 "nbformat_minor": 5
}
