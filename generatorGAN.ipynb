{
 "cells": [
  {
   "cell_type": "code",
   "execution_count": null,
   "id": "8215e2ae",
   "metadata": {},
   "outputs": [],
   "source": [
    "import torch\n",
    "import torch.nn as nn\n",
    "\n",
    "class Generator(nn.Module):\n",
    "    def __init__(self, latent_size):\n",
    "        super().__init__()\n",
    "        self.model = nn.Sequential(\n",
    "            # Input latent_size x 1 x 1\n",
    "            nn.ConvTranspose2d(latent_size, 512, kernel_size=4, padding=0, stride=1, bias=False),\n",
    "            nn.BatchNorm2d(512),\n",
    "            nn.ReLU(True),\n",
    "            # ConvTranspose2d dimension equation: H = (Hin - 1)*stride - 2xpadding + dilation*(kernelsize-1)+output_padding+1 (same for W)\n",
    "            # dilation = 1 by default\n",
    "            # no output padding\n",
    "            # Layer output: 512 x 4 x 4 (H = (1-1)*1 - 2x0 + 1*(4-1) + 0 + 1)\n",
    "\n",
    "            nn.ConvTranspose2d(512, 256, kernel_size=4, padding=1, stride=2, bias=False),\n",
    "            nn.BatchNorm2d(256),\n",
    "            nn.ReLU(True),\n",
    "            # Layer output: 256 x 8 x 8 (H = (4-1)*2 - 2x(1) + 1*(4-1) + 0 + 1 = 8)\n",
    "\n",
    "            nn.ConvTranspose2d(256, 128, kernel_size=4, padding=1, stride=2, bias=False),\n",
    "            nn.BatchNorm2d(128),\n",
    "            nn.ReLU(True),\n",
    "            # Layer output: 128 x 16 x 16\n",
    "\n",
    "            nn.ConvTranspose2d(128, 3, kernel_size=4, padding=1, stride=2, bias=False),\n",
    "            # nn.BatchNorm2d(64),\n",
    "            # nn.ReLU(True),\n",
    "            # Layer output: 3 x 32 x 32\n",
    "            nn.Tanh()\n",
    "        )\n",
    "\n",
    "    def forward(self, x):\n",
    "        return torch.tanh(self.model(x))\n"
   ]
  }
 ],
 "metadata": {
  "kernelspec": {
   "display_name": "Python 3 (ipykernel)",
   "language": "python",
   "name": "python3"
  },
  "language_info": {
   "codemirror_mode": {
    "name": "ipython",
    "version": 3
   },
   "file_extension": ".py",
   "mimetype": "text/x-python",
   "name": "python",
   "nbconvert_exporter": "python",
   "pygments_lexer": "ipython3",
   "version": "3.8.13"
  }
 },
 "nbformat": 4,
 "nbformat_minor": 5
}
