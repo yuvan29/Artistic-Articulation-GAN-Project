{
 "cells": [
  {
   "cell_type": "code",
   "execution_count": null,
   "id": "56368251",
   "metadata": {},
   "outputs": [],
   "source": [
    "import random, torch, os, numpy as np\n",
    "import config\n",
    "from torchvision.utils import save_image\n",
    "\n",
    "RESULTS_DIR = 'saved_images'\n",
    "normalization_stats = (0.5, 0.5, 0.5), (0.5, 0.5, 0.5)\n",
    "def save_checkpoint(model, optimizer, filename=\"my_checkpoint.pth.tar\"):\n",
    "    print(\"=> Saving checkpoint\")\n",
    "    checkpoint = {\n",
    "        \"state_dict\": model.state_dict(),\n",
    "        \"optimizer\": optimizer.state_dict(),\n",
    "    }\n",
    "    torch.save(checkpoint, filename)\n",
    "\n",
    "def load_checkpoint(checkpoint_file, model, optimizer, lr):\n",
    "    print(\"=> Loading checkpoint\")\n",
    "    checkpoint = torch.load(checkpoint_file, map_location=config.DEVICE)\n",
    "    model.load_state_dict(checkpoint[\"state_dict\"])\n",
    "    optimizer.load_state_dict(checkpoint[\"optimizer\"])\n",
    "\n",
    "    # If we don't do this then it will just have learning rate of old checkpoint\n",
    "    # and it will lead to many hours of debugging \\:\n",
    "    for param_group in optimizer.param_groups:\n",
    "        param_group[\"lr\"] = lr\n",
    "\n",
    "def seed_everything(seed=1234):\n",
    "    os.environ[\"PYTHONHASHSEED\"] = str(seed)\n",
    "    random.seed(seed)\n",
    "    np.random.seed(seed)\n",
    "    torch.manual_seed(seed)\n",
    "    torch.cuda.manual_seed(seed)\n",
    "    torch.cuda.manual_seed_all(seed)\n",
    "    torch.backends.cudnn.deterministic = True\n",
    "    torch.backends.cudnn.benchmark = False\n",
    "\n",
    "def denorm(image):\n",
    "    return image * normalization_stats[1][0] + normalization_stats[0][0]\n",
    "\n",
    "def save_results(generator, index, latent_batch, show=True):\n",
    "    # Generate fake pokemon\n",
    "    fake_pokemon = generator(latent_batch)\n",
    "\n",
    "    # Make the filename for the output\n",
    "    fake_file = \"result-image-{0:0=4d}.png\".format(index)\n",
    "\n",
    "    # Save the image\n",
    "    save_image(denorm(fake_pokemon), os.path.join(RESULTS_DIR, fake_file), nrow=8)\n",
    "    print(\"Result Saved!\")\n",
    "\n",
    "    # if show:\n",
    "    #     fig, ax = plt.subplots(figsize=(8, 8))\n",
    "    #     ax.set_xticks([]);\n",
    "    #     ax.set_yticks([])\n",
    "    #     ax.imshow(make_grid(fake_pokemon.cpu().detach(), nrow=8).permute(1, 2, 0))\n",
    "\n"
   ]
  }
 ],
 "metadata": {
  "kernelspec": {
   "display_name": "Python 3 (ipykernel)",
   "language": "python",
   "name": "python3"
  },
  "language_info": {
   "codemirror_mode": {
    "name": "ipython",
    "version": 3
   },
   "file_extension": ".py",
   "mimetype": "text/x-python",
   "name": "python",
   "nbconvert_exporter": "python",
   "pygments_lexer": "ipython3",
   "version": "3.8.13"
  }
 },
 "nbformat": 4,
 "nbformat_minor": 5
}
