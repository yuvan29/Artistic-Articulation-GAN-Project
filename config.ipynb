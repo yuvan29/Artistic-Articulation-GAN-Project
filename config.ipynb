{
 "cells": [
  {
   "cell_type": "code",
   "execution_count": null,
   "id": "7631f237",
   "metadata": {},
   "outputs": [],
   "source": [
    "import torch\n",
    "from torchvision import transforms, models\n",
    "\n",
    "DEVICE = \"cuda\" if torch.cuda.is_available() else \"cpu\"\n",
    "TRAIN_DIR = \"../data/train\"\n",
    "VAL_DIR = \"../data/validation\"\n",
    "TEST_DIR = \"../data/test/\"\n",
    "BATCH_SIZE = 64\n",
    "LATENT_SIZE = 128\n",
    "LEARNING_RATE = 2e-5\n",
    "LAMBDA_IDENTITY = 0.0\n",
    "LAMBDA_CYCLE = 10\n",
    "NUM_WORKERS = 4\n",
    "NUM_EPOCHS = 102\n",
    "LOAD_MODEL = True\n",
    "SAVE_MODEL = True\n",
    "CHECKPOINT_GEN_Pokemon = \"genLogo.pth.tar\" #genh\n",
    "CHECKPOINT_DISC_Pokemon = \"discLogo.pth.tar\" #disch\n",
    "\n",
    "\n",
    "transforms1 = transforms.Compose(\n",
    "    [\n",
    "        transforms.ToTensor(),\n",
    "        transforms.Resize((32,32)),\n",
    "        transforms.CenterCrop(32),\n",
    "        #transforms.RandomHorizontalFlip(p=0.3),\n",
    "        transforms.Normalize(mean=[0.5, 0.5, 0.5], std=[0.5, 0.5, 0.5]),\n",
    "    ],\n",
    ")\n",
    "\n",
    "# transforms2 = transforms.Compose(\n",
    "#     [\n",
    "#         transforms.ToTensor(),\n",
    "#         transforms.Resize((64, 64)),\n",
    "#         transforms.CenterCrop(64),\n",
    "#         transforms.ColorJitter(0.3, 0.3, 0.3),\n",
    "#         transforms.Normalize(mean=[0.5, 0.5, 0.5], std=[0.5, 0.5, 0.5]),\n",
    "#     ],\n",
    "# )"
   ]
  }
 ],
 "metadata": {
  "kernelspec": {
   "display_name": "Python 3 (ipykernel)",
   "language": "python",
   "name": "python3"
  },
  "language_info": {
   "codemirror_mode": {
    "name": "ipython",
    "version": 3
   },
   "file_extension": ".py",
   "mimetype": "text/x-python",
   "name": "python",
   "nbconvert_exporter": "python",
   "pygments_lexer": "ipython3",
   "version": "3.8.13"
  }
 },
 "nbformat": 4,
 "nbformat_minor": 5
}
